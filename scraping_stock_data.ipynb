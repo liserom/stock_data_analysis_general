{
 "cells": [
  {
   "cell_type": "code",
   "execution_count": 24,
   "metadata": {},
   "outputs": [],
   "source": [
    "#CHALLENGE: Try webscraping a site that does not have a direct wat to inspect an element (e.g Tradingview)"
   ]
  },
  {
   "cell_type": "code",
   "execution_count": 94,
   "metadata": {},
   "outputs": [],
   "source": [
    "#Importing libraries\n",
    "\n",
    "import pandas as pd\n",
    "import requests\n",
    "from bs4 import BeautifulSoup"
   ]
  },
  {
   "cell_type": "code",
   "execution_count": 95,
   "metadata": {},
   "outputs": [],
   "source": [
    "#Storing ES URL into url variable\n",
    "url = 'https://finance.yahoo.com/quote/SPY?p=SPY&.tsrc=fin-srch'\n",
    "\n",
    "#Creating ask variable to  get data from the URL\n",
    "response = requests.get (url)"
   ]
  },
  {
   "cell_type": "code",
   "execution_count": 112,
   "metadata": {},
   "outputs": [
    {
     "name": "stdout",
     "output_type": "stream",
     "text": [
      "Ticker Symbol = SPDR S&P 500 ETF Trust (SPY)\n",
      "Stock price = 408.28\n",
      "$ Change = -5.70\n",
      "% Change = (-1.38%)\n",
      "Volume = 74,217,909\n"
     ]
    }
   ],
   "source": [
    "soup = BeautifulSoup (response.text, 'html')\n",
    "#Letting BeautifulSoup find web elements for PRICE, VOLUME and only parsing out the text portion of the code\n",
    "\n",
    "ticker = soup.find_all ('h1', {'class':'D(ib) Fz(18px)'})[0].text\n",
    "print (\"Ticker Symbol =\", ticker)\n",
    "\n",
    "price = soup.find_all ('div', {'class':'D(ib) Mend(20px)'})[0].find ('fin-streamer').text\n",
    "print (\"Stock price =\", price)\n",
    "\n",
    "PriceChange = soup.find_all ('div', {'class':'D(ib) Mend(20px)'})[0].find ('span').text\n",
    "print (\"$ Change =\",PriceChange)\n",
    "\n",
    "PercentChange = soup.find_all ('fin-streamer', {'class':'Fw(500) Pstart(8px) Fz(24px)'})[1].find ('span').text\n",
    "print (\"% Change =\", PercentChange)\n",
    "\n",
    "volume = soup.find_all ('td', {'class':'Ta(end) Fw(600) Lh(14px)'})[6].find ('fin-streamer').text\n",
    "print (\"Volume =\", volume) #double-check Current stock volume as the numbers were not consistent with real-time data (infact, I have no idea where 74,217,909 came from). Check tomorrow at open."
   ]
  }
 ],
 "metadata": {
  "kernelspec": {
   "display_name": "Python 3",
   "language": "python",
   "name": "python3"
  },
  "language_info": {
   "codemirror_mode": {
    "name": "ipython",
    "version": 3
   },
   "file_extension": ".py",
   "mimetype": "text/x-python",
   "name": "python",
   "nbconvert_exporter": "python",
   "pygments_lexer": "ipython3",
   "version": "3.10.4"
  },
  "orig_nbformat": 4,
  "vscode": {
   "interpreter": {
    "hash": "3ad933181bd8a04b432d3370b9dc3b0662ad032c4dfaa4e4f1596c548f763858"
   }
  }
 },
 "nbformat": 4,
 "nbformat_minor": 2
}
